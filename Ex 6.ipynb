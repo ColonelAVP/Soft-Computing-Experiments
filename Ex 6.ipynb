{
 "cells": [
  {
   "cell_type": "markdown",
   "metadata": {},
   "source": [
    "### Python implementation of the Updating weight using the Back-Propagation and Gradient Descent Algorithm."
   ]
  },
  {
   "cell_type": "code",
   "execution_count": null,
   "metadata": {
    "id": "5las3vUdjIBe"
   },
   "outputs": [],
   "source": [
    "import numpy as np"
   ]
  },
  {
   "cell_type": "code",
   "execution_count": null,
   "metadata": {
    "colab": {
     "base_uri": "https://localhost:8080/"
    },
    "id": "mOmsjc71j9U-",
    "outputId": "f3e60a6b-94b4-48db-9f1f-11328720e3fa"
   },
   "outputs": [
    {
     "data": {
      "text/plain": [
       "array([[0, 0],\n",
       "       [0, 1],\n",
       "       [0, 1],\n",
       "       [1, 1]])"
      ]
     },
     "execution_count": 71,
     "metadata": {},
     "output_type": "execute_result"
    }
   ],
   "source": [
    "input_value = np.array([[0,0],[0,1],[0,1],[1,1]])\n",
    "input_value.shape\n",
    "input_value\n"
   ]
  },
  {
   "cell_type": "code",
   "execution_count": null,
   "metadata": {
    "colab": {
     "base_uri": "https://localhost:8080/"
    },
    "id": "gvibOfSUlTCi",
    "outputId": "0cf3f313-6c87-4b75-ebc0-dace18cf3744"
   },
   "outputs": [
    {
     "data": {
      "text/plain": [
       "(4, 1)"
      ]
     },
     "execution_count": 72,
     "metadata": {},
     "output_type": "execute_result"
    }
   ],
   "source": [
    "output = np.array([0,1,1,0])\n",
    "output = output.reshape (4,1)\n",
    "output.shape"
   ]
  },
  {
   "cell_type": "code",
   "execution_count": null,
   "metadata": {
    "colab": {
     "base_uri": "https://localhost:8080/"
    },
    "id": "H1Iezx8XlueR",
    "outputId": "820d9ade-4ac0-428a-a160-a11f2e029eb2"
   },
   "outputs": [
    {
     "data": {
      "text/plain": [
       "array([[0.1],\n",
       "       [0.2]])"
      ]
     },
     "execution_count": 73,
     "metadata": {},
     "output_type": "execute_result"
    }
   ],
   "source": [
    "weights = np.array ([[0.1],[0.2]])\n",
    "weights"
   ]
  },
  {
   "cell_type": "code",
   "execution_count": null,
   "metadata": {
    "id": "vfdQIaCjmAvJ"
   },
   "outputs": [],
   "source": [
    "bias =0.3"
   ]
  },
  {
   "cell_type": "code",
   "execution_count": null,
   "metadata": {
    "id": "sCFFWrQEmDiT"
   },
   "outputs": [],
   "source": [
    "def sigmoid_func(x):\n",
    "    return 1/(1+np.exp(-x))"
   ]
  },
  {
   "cell_type": "code",
   "execution_count": null,
   "metadata": {
    "id": "vCbgNFNfmeMV"
   },
   "outputs": [],
   "source": [
    "def der(x):\n",
    "  return sigmoid_func(x)* (1-sigmoid_func(x))"
   ]
  },
  {
   "cell_type": "code",
   "execution_count": null,
   "metadata": {
    "id": "QTv763otmytS"
   },
   "outputs": [],
   "source": [
    "for ecochs in range (10000):\n",
    "  input_arr = input_value\n",
    "# back propagation\n",
    "  weighted_sum = np.dot (input_arr , weights) + bias\n",
    "  first_output = sigmoid_func(weighted_sum)\n",
    "\n",
    "  error = first_output - output\n",
    "  total_error = np.square (np.subtract (first_output,output)).mean()\n",
    "# chain rule\n",
    "  first_der = error\n",
    "  second_der = der(first_output)\n",
    "  derivative = first_der * second_der\n",
    "\n",
    "  t_input = input_value.T\n",
    "  final_derivative = np.dot (t_input ,derivative)\n",
    "  # update Weight\n",
    "  weights = weights -0.05*final_derivative\n",
    "# update Bias\n",
    "  for i in derivative:\n",
    "      bias = bias - 0.05*i"
   ]
  },
  {
   "cell_type": "code",
   "execution_count": null,
   "metadata": {
    "colab": {
     "base_uri": "https://localhost:8080/"
    },
    "id": "eczSAu6jpU71",
    "outputId": "7387c3d1-1942-42e9-d100-af99b78d7588"
   },
   "outputs": [
    {
     "name": "stdout",
     "output_type": "stream",
     "text": [
      "[[-7.94936582]\n",
      " [ 7.52086789]]\n",
      "[-3.66639685]\n"
     ]
    }
   ],
   "source": [
    "print(weights)\n",
    "print (bias)"
   ]
  },
  {
   "cell_type": "code",
   "execution_count": null,
   "metadata": {
    "colab": {
     "base_uri": "https://localhost:8080/"
    },
    "id": "u0cMFFAXpnoS",
    "outputId": "77122405-8405-421b-da28-e497a2c41df1"
   },
   "outputs": [
    {
     "name": "stdout",
     "output_type": "stream",
     "text": [
      "[0.01638457]\n"
     ]
    }
   ],
   "source": [
    "# prediction\n",
    "pred = np.array ([1,1])\n",
    "\n",
    "result = np.dot (pred, weights) + bias\n",
    "\n",
    "res = sigmoid_func (result)\n",
    "\n",
    "print(res)"
   ]
  }
 ],
 "metadata": {
  "colab": {
   "collapsed_sections": [],
   "provenance": []
  },
  "kernelspec": {
   "display_name": "Python 3",
   "language": "python",
   "name": "python3"
  },
  "language_info": {
   "codemirror_mode": {
    "name": "ipython",
    "version": 3
   },
   "file_extension": ".py",
   "mimetype": "text/x-python",
   "name": "python",
   "nbconvert_exporter": "python",
   "pygments_lexer": "ipython3",
   "version": "3.8.8"
  }
 },
 "nbformat": 4,
 "nbformat_minor": 1
}
