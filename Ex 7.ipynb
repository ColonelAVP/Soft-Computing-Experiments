{
 "cells": [
  {
   "cell_type": "code",
   "execution_count": 1,
   "id": "324e7ca2",
   "metadata": {},
   "outputs": [
    {
     "name": "stdout",
     "output_type": "stream",
     "text": [
      "Collecting scikit-fuzzy\n",
      "  Downloading scikit-fuzzy-0.4.2.tar.gz (993 kB)\n",
      "Requirement already satisfied: numpy>=1.6.0 in c:\\users\\tuf\\anaconda3\\lib\\site-packages (from scikit-fuzzy) (1.20.1)\n",
      "Requirement already satisfied: scipy>=0.9.0 in c:\\users\\tuf\\anaconda3\\lib\\site-packages (from scikit-fuzzy) (1.6.2)\n",
      "Requirement already satisfied: networkx>=1.9.0 in c:\\users\\tuf\\anaconda3\\lib\\site-packages (from scikit-fuzzy) (2.5)\n",
      "Requirement already satisfied: decorator>=4.3.0 in c:\\users\\tuf\\anaconda3\\lib\\site-packages (from networkx>=1.9.0->scikit-fuzzy) (5.0.6)\n",
      "Building wheels for collected packages: scikit-fuzzy\n",
      "  Building wheel for scikit-fuzzy (setup.py): started\n",
      "  Building wheel for scikit-fuzzy (setup.py): finished with status 'done'\n",
      "  Created wheel for scikit-fuzzy: filename=scikit_fuzzy-0.4.2-py3-none-any.whl size=894069 sha256=10c56d497e98be50f40375f84f509167f193b92dd811218d63a270b6b702744f\n",
      "  Stored in directory: c:\\users\\tuf\\appdata\\local\\pip\\cache\\wheels\\2c\\04\\80\\7eefb1a2de7d36aefd06432fab2a1486caf0a0596a7067391a\n",
      "Successfully built scikit-fuzzy\n",
      "Installing collected packages: scikit-fuzzy\n",
      "Successfully installed scikit-fuzzy-0.4.2\n",
      "Note: you may need to restart the kernel to use updated packages.\n"
     ]
    }
   ],
   "source": [
    "#pip install -U scikit-fuzzy"
   ]
  },
  {
   "cell_type": "code",
   "execution_count": 1,
   "id": "49ee41d0",
   "metadata": {},
   "outputs": [],
   "source": [
    "import numpy as np\n",
    "import skfuzzy as fuzz\n",
    "import skfuzzy.membership as mf\n",
    "import matplotlib.pyplot as plt"
   ]
  },
  {
   "cell_type": "code",
   "execution_count": 2,
   "id": "ad5eabcf",
   "metadata": {},
   "outputs": [],
   "source": [
    "x_age = np.arange(0, 101, 1)\n",
    "x_bloodPressure = np.arange(0, 221, 1)\n",
    "x_cholesterol = np.arange(100, 251, 1)\n",
    "x_bloodSugar = np.arange(0, 121, 1)\n",
    "x_hdl = np.arange(0, 71, 1)\n",
    "x_ldl = np.arange(0, 191, 1)\n",
    "y_risk = np.arange(0, 46, 1)"
   ]
  },
  {
   "cell_type": "code",
   "execution_count": 3,
   "id": "84a54a39",
   "metadata": {},
   "outputs": [
    {
     "name": "stdout",
     "output_type": "stream",
     "text": [
      "\n",
      "\n",
      "------------------------------------Welcome-----------------------------------------\n",
      "\n",
      "\n",
      "Enter health data for Heart Disease Risk Calculation with Fuzzy Logic...\n",
      "\n",
      "\n",
      "Age:22\n",
      "Blood pressure:180\n",
      "Cholesterol:200\n",
      "Blood sugar:100\n",
      "LDL (Good cholesterol):120\n",
      "HDL (Bad Cholesterol):60\n"
     ]
    }
   ],
   "source": [
    "print(\"\\n\\n------------------------------------Welcome-----------------------------------------\\n\\n\")\n",
    "print(\"Enter health data for Heart Disease Risk Calculation with Fuzzy Logic...\\n\\n\")\n",
    "\n",
    "input_age = int(input(\"Age:\"))\n",
    "input_bloodPressure = int(input(\"Blood pressure:\"))\n",
    "input_cholesterol = int(input(\"Cholesterol:\"))\n",
    "input_bloodSugar = int(input(\"Blood sugar:\"))\n",
    "input_ldl = int(input(\"LDL (Good cholesterol):\"))\n",
    "input_hdl = int(input(\"HDL (Bad Cholesterol):\"))"
   ]
  },
  {
   "cell_type": "code",
   "execution_count": 5,
   "id": "014cb194",
   "metadata": {},
   "outputs": [
    {
     "name": "stdout",
     "output_type": "stream",
     "text": [
      "\n",
      "\n",
      "Thank you for the values you entered.\n"
     ]
    }
   ],
   "source": [
    "print(\"\\n\\nThank you for the values you entered.\")"
   ]
  },
  {
   "cell_type": "code",
   "execution_count": 6,
   "id": "d7e17129",
   "metadata": {},
   "outputs": [
    {
     "name": "stdout",
     "output_type": "stream",
     "text": [
      "\n",
      "\n",
      "Calculations in progress. Please wait...\n",
      "\n",
      "\n"
     ]
    }
   ],
   "source": [
    "print(\"\\n\\nCalculations in progress. Please wait...\\n\\n\")"
   ]
  },
  {
   "cell_type": "code",
   "execution_count": 7,
   "id": "a16b7a34",
   "metadata": {},
   "outputs": [],
   "source": [
    "age_young = mf.trapmf(x_age, [-30, -5, 30, 40])\n",
    "age_mid = mf.trapmf(x_age, [30, 40, 50, 60]) \n",
    "age_old = mf.trapmf(x_age, [50, 60, 100, 100])"
   ]
  },
  {
   "cell_type": "code",
   "execution_count": 8,
   "id": "d9b166e0",
   "metadata": {},
   "outputs": [],
   "source": [
    "bloodPressure_low = mf.trapmf(x_bloodPressure, [-30, -5, 100, 120])\n",
    "bloodPressure_mid = mf.trapmf(x_bloodPressure, [100, 120, 140, 160])\n",
    "bloodPressure_high = mf.trapmf(x_bloodPressure, [140, 160, 180, 200])\n",
    "bloodPressure_veryHigh = mf.trapmf(x_bloodPressure, [180, 200, 220, 220])"
   ]
  },
  {
   "cell_type": "code",
   "execution_count": 9,
   "id": "8fdb430b",
   "metadata": {},
   "outputs": [],
   "source": [
    "\n",
    "cholesterol_low = mf.trapmf(x_cholesterol, [-30, -5, 180, 200])\n",
    "cholesterol_mid = mf.trapmf(x_cholesterol, [180, 200, 220, 240])\n",
    "cholesterol_high = mf.trapmf(x_cholesterol, [220, 240, 250, 270])"
   ]
  },
  {
   "cell_type": "code",
   "execution_count": 10,
   "id": "f8d26369",
   "metadata": {},
   "outputs": [],
   "source": [
    "bloodSugar_veryHigh = mf.trimf(x_bloodSugar, [90, 120, 130])"
   ]
  },
  {
   "cell_type": "code",
   "execution_count": 11,
   "id": "ec9a872c",
   "metadata": {},
   "outputs": [],
   "source": [
    "ldl_normal= mf.trimf(x_ldl, [0, 0, 100,])\n",
    "ldl_limit= mf.trimf(x_ldl, [100, 130, 160,])\n",
    "ldl_high= mf.trimf(x_ldl, [130, 160, 190,])\n",
    "ldl_veryHigh= mf.trapmf(x_ldl, [160, 190, 200, 200])"
   ]
  },
  {
   "cell_type": "code",
   "execution_count": 12,
   "id": "b1d83d10",
   "metadata": {},
   "outputs": [],
   "source": [
    "hdl_low= mf.trapmf(x_hdl, [0, 0, 30, 40])\n",
    "hdl_mid= mf.trapmf(x_hdl, [30, 40, 50, 60])\n",
    "hdl_high= mf.trapmf(x_hdl, [50, 60, 80, 80])"
   ]
  },
  {
   "cell_type": "code",
   "execution_count": 13,
   "id": "4cf8cd4c",
   "metadata": {},
   "outputs": [],
   "source": [
    "risk_not = mf.trapmf(y_risk, [0 ,0 ,5 ,10])\n",
    "risk_little = mf.trapmf(y_risk, [5 ,10 ,15 ,20])\n",
    "risk_mid = mf.trapmf(y_risk, [15 ,20 ,25 ,30])\n",
    "risk_high = mf.trapmf(y_risk, [25 ,30 ,35 ,40])\n",
    "risk_veryHigh = mf.trapmf(y_risk, [35, 40, 45, 50])"
   ]
  },
  {
   "cell_type": "code",
   "execution_count": 14,
   "id": "5f5a4cfb",
   "metadata": {},
   "outputs": [
    {
     "data": {
      "text/plain": [
       "<matplotlib.legend.Legend at 0x21edcbe7b50>"
      ]
     },
     "execution_count": 14,
     "metadata": {},
     "output_type": "execute_result"
    },
    {
     "data": {
      "image/png": "[encoded data removed]",
      "text/plain": [
       "<Figure size 720x1800 with 7 Axes>"
      ]
     },
     "metadata": {
      "needs_background": "light"
     },
     "output_type": "display_data"
    }
   ],
   "source": [
    "fig, (ax0, ax1, ax2, ax3, ax4, ax5, ax6) = plt.subplots(nrows = 7, figsize =(10, 25))\n",
    "\n",
    "ax0.plot(x_age, age_young, 'r', linewidth = 2, label = 'Young')\n",
    "ax0.plot(x_age, age_mid, 'g', linewidth = 2, label = 'Middle')\n",
    "ax0.plot(x_age, age_old, 'b', linewidth = 2, label = 'Old')\n",
    "ax0.set_title('age')\n",
    "ax0.legend()"
   ]
  },
  {
   "cell_type": "code",
   "execution_count": 15,
   "id": "14d2c52a",
   "metadata": {},
   "outputs": [
    {
     "data": {
      "text/plain": [
       "<matplotlib.legend.Legend at 0x21ed9d3c070>"
      ]
     },
     "execution_count": 15,
     "metadata": {},
     "output_type": "execute_result"
    }
   ],
   "source": [
    "ax1.plot(x_bloodPressure, bloodPressure_low, 'r', linewidth = 2, label = 'Low')\n",
    "ax1.plot(x_bloodPressure, bloodPressure_mid, 'g', linewidth = 2, label = 'Middle')\n",
    "ax1.plot(x_bloodPressure, bloodPressure_high, 'b', linewidth = 2, label = 'High')\n",
    "ax1.plot(x_bloodPressure, bloodPressure_veryHigh, 'y', linewidth = 2, label = 'Very High')\n",
    "ax1.set_title('Blood Pressure')\n",
    "ax1.legend()"
   ]
  },
  {
   "cell_type": "code",
   "execution_count": 16,
   "id": "f12a82fc",
   "metadata": {},
   "outputs": [
    {
     "data": {
      "text/plain": [
       "<matplotlib.legend.Legend at 0x21edcaf3cd0>"
      ]
     },
     "execution_count": 16,
     "metadata": {},
     "output_type": "execute_result"
    }
   ],
   "source": [
    "ax2.plot(x_cholesterol, cholesterol_low, 'r', linewidth = 2, label = 'Low')\n",
    "ax2.plot(x_cholesterol, cholesterol_mid, 'g', linewidth = 2, label = 'Middle')\n",
    "ax2.plot(x_cholesterol, cholesterol_high, 'b', linewidth = 2, label = 'High')\n",
    "ax2.set_title('Colestrol')\n",
    "ax2.legend()"
   ]
  },
  {
   "cell_type": "code",
   "execution_count": 17,
   "id": "2321efae",
   "metadata": {},
   "outputs": [
    {
     "data": {
      "text/plain": [
       "<matplotlib.legend.Legend at 0x21edd8e64c0>"
      ]
     },
     "execution_count": 17,
     "metadata": {},
     "output_type": "execute_result"
    }
   ],
   "source": [
    "ax3.plot(x_bloodSugar, bloodSugar_veryHigh, 'b', linewidth = 2, label = 'Very High')\n",
    "ax3.set_title('Blood Sugar')\n",
    "ax3.legend()"
   ]
  },
  {
   "cell_type": "code",
   "execution_count": 18,
   "id": "4b508b5b",
   "metadata": {},
   "outputs": [
    {
     "data": {
      "text/plain": [
       "<matplotlib.legend.Legend at 0x21edcb62580>"
      ]
     },
     "execution_count": 18,
     "metadata": {},
     "output_type": "execute_result"
    }
   ],
   "source": [
    "ax4.plot(x_hdl, hdl_low, 'r', linewidth = 2, label = 'Low')\n",
    "ax4.plot(x_hdl, hdl_mid, 'g', linewidth = 2, label = 'Middle')\n",
    "ax4.plot(x_hdl, hdl_high, 'b', linewidth = 2, label = 'High')\n",
    "ax4.set_title('HDL')\n",
    "ax4.legend()"
   ]
  },
  {
   "cell_type": "code",
   "execution_count": 19,
   "id": "0a54e3bb",
   "metadata": {},
   "outputs": [
    {
     "data": {
      "text/plain": [
       "<matplotlib.legend.Legend at 0x21edd8fef40>"
      ]
     },
     "execution_count": 19,
     "metadata": {},
     "output_type": "execute_result"
    }
   ],
   "source": [
    "ax5.plot(x_ldl, ldl_normal, 'r', linewidth = 2, label = 'Normal')\n",
    "ax5.plot(x_ldl, ldl_limit, 'g', linewidth = 2, label = 'Limit')\n",
    "ax5.plot(x_ldl, ldl_high, 'b', linewidth = 2, label = 'High')\n",
    "ax5.plot(x_ldl, ldl_veryHigh, 'y', linewidth = 2, label = 'Very High')\n",
    "ax5.set_title('LDL')\n",
    "ax5.legend()"
   ]
  },
  {
   "cell_type": "code",
   "execution_count": 20,
   "id": "6e9c1890",
   "metadata": {},
   "outputs": [
    {
     "data": {
      "text/plain": [
       "<matplotlib.legend.Legend at 0x21edd90ee80>"
      ]
     },
     "execution_count": 20,
     "metadata": {},
     "output_type": "execute_result"
    }
   ],
   "source": [
    "ax6.plot(y_risk, risk_not, 'r', linewidth = 2, label = 'Not')\n",
    "ax6.plot(y_risk, risk_little, 'g', linewidth = 2, label = 'Little')\n",
    "ax6.plot(y_risk, risk_mid, 'b', linewidth = 2, label = 'Middle')\n",
    "ax6.plot(y_risk, risk_high, 'y', linewidth = 2, label = 'High')\n",
    "ax6.plot(y_risk, risk_veryHigh, 'm', linewidth = 2, label = 'Very High')\n",
    "ax6.set_title('Risk')\n",
    "ax6.legend()"
   ]
  },
  {
   "cell_type": "code",
   "execution_count": 21,
   "id": "56b4e7ac",
   "metadata": {},
   "outputs": [
    {
     "data": {
      "text/plain": [
       "<Figure size 432x288 with 0 Axes>"
      ]
     },
     "metadata": {},
     "output_type": "display_data"
    }
   ],
   "source": [
    "plt.tight_layout()"
   ]
  },
  {
   "cell_type": "code",
   "execution_count": 22,
   "id": "dfdf58dc",
   "metadata": {},
   "outputs": [],
   "source": [
    "# Membership degrees > NURSE\n",
    "\n",
    "age_fit_young = fuzz.interp_membership(x_age, age_young, input_age)\n",
    "age_fit_mid = fuzz.interp_membership(x_age, age_mid, input_age)\n",
    "age_fit_old = fuzz.interp_membership(x_age, age_old, input_age)\n"
   ]
  },
  {
   "cell_type": "code",
   "execution_count": 23,
   "id": "83fe8383",
   "metadata": {},
   "outputs": [],
   "source": [
    "bloodPressure_fit_low = fuzz.interp_membership(x_bloodPressure, bloodPressure_low, input_bloodPressure)\n",
    "bloodPressure_fit_mid = fuzz.interp_membership(x_bloodPressure, bloodPressure_mid, input_bloodPressure)\n",
    "bloodPressure_fit_high = fuzz.interp_membership(x_bloodPressure,bloodPressure_high , input_bloodPressure)\n",
    "bloodPressure_fit_veryHigh = fuzz.interp_membership(x_bloodPressure, bloodPressure_veryHigh, input_bloodPressure)"
   ]
  },
  {
   "cell_type": "code",
   "execution_count": 24,
   "id": "c91d32c6",
   "metadata": {},
   "outputs": [],
   "source": [
    "cholesterol_fit_low = fuzz.interp_membership(x_cholesterol, cholesterol_low, input_cholesterol)\n",
    "cholesterol_fit_mid = fuzz.interp_membership(x_cholesterol, cholesterol_mid, input_cholesterol)\n",
    "cholesterol_fit_high = fuzz.interp_membership(x_cholesterol, cholesterol_high, input_cholesterol)"
   ]
  },
  {
   "cell_type": "code",
   "execution_count": 25,
   "id": "1e992f26",
   "metadata": {},
   "outputs": [],
   "source": [
    "bloodSugar_fit_veryHigh = fuzz.interp_membership(x_bloodSugar, bloodSugar_veryHigh, input_bloodSugar)"
   ]
  },
  {
   "cell_type": "code",
   "execution_count": 26,
   "id": "fcfab3ac",
   "metadata": {},
   "outputs": [],
   "source": [
    "ldl_fit_normal = fuzz.interp_membership(x_ldl, ldl_normal, input_ldl)\n",
    "ldl_fit_limit = fuzz.interp_membership(x_ldl, ldl_limit, input_ldl)\n",
    "ldl_fit_high = fuzz.interp_membership(x_ldl,ldl_high , input_ldl)\n",
    "ldl_fit_veryHigh = fuzz.interp_membership(x_ldl, ldl_veryHigh, input_ldl)"
   ]
  },
  {
   "cell_type": "code",
   "execution_count": 27,
   "id": "6b103737",
   "metadata": {},
   "outputs": [],
   "source": [
    "hdl_fit_low = fuzz.interp_membership(x_hdl, hdl_low, input_hdl)\n",
    "hdl_fit_mid = fuzz.interp_membership(x_hdl, hdl_mid, input_hdl)\n",
    "hdl_fit_high = fuzz.interp_membership(x_hdl, hdl_high, input_hdl)"
   ]
  },
  {
   "cell_type": "code",
   "execution_count": 28,
   "id": "89527d26",
   "metadata": {},
   "outputs": [],
   "source": [
    "# Rules\n",
    "\n",
    "rule1 = np.fmin(np.fmin(np.fmin(np.fmin(bloodPressure_fit_low ,cholesterol_fit_low),ldl_fit_normal), hdl_fit_high), risk_not)\n",
    "rule2 = np.fmin(np.fmin(np.fmin(np.fmin(bloodPressure_fit_low ,cholesterol_fit_low),ldl_fit_limit), hdl_fit_high), risk_little) \n",
    "rule3 = np.fmin(np.fmin(np.fmin(np.fmin(bloodPressure_fit_low ,cholesterol_fit_low),ldl_fit_high), hdl_fit_high), risk_mid) \n",
    "rule4 = np.fmin(np.fmin(np.fmin(np.fmin(bloodPressure_fit_low ,cholesterol_fit_low),ldl_fit_veryHigh), hdl_fit_high), risk_high) \n",
    "rule5 = np.fmin(np.fmin(np.fmin(bloodPressure_fit_mid ,cholesterol_fit_low), hdl_fit_high), risk_not) "
   ]
  },
  {
   "cell_type": "code",
   "execution_count": 29,
   "id": "2ad1f091",
   "metadata": {},
   "outputs": [],
   "source": [
    "rule6 = np.fmin(np.fmin(np.fmin(age_fit_young, bloodPressure_fit_mid), cholesterol_fit_mid), risk_not) \n",
    "rule7 = np.fmin(np.fmin(np.fmin(age_fit_mid, bloodPressure_fit_mid), cholesterol_fit_mid), risk_not) \n",
    "rule8 = np.fmin(np.fmin(np.fmin(age_fit_old, bloodPressure_fit_mid), cholesterol_fit_mid), risk_not) \n",
    "rule9 = np.fmin(np.fmin(np.fmin(age_fit_young, bloodPressure_fit_high), cholesterol_fit_high), risk_mid) \n",
    "rule10 = np.fmin(np.fmin(np.fmin(age_fit_mid, bloodPressure_fit_high), cholesterol_fit_high), risk_high) \n",
    "rule11 = np.fmin(np.fmin(np.fmin(age_fit_old, bloodPressure_fit_high), cholesterol_fit_high), risk_veryHigh) \n"
   ]
  },
  {
   "cell_type": "code",
   "execution_count": 30,
   "id": "6d0fb6b3",
   "metadata": {},
   "outputs": [],
   "source": [
    "rule12 = np.fmin(np.fmin(np.fmin(np.fmin(np.fmin(age_fit_young, bloodPressure_fit_mid), cholesterol_fit_low), ldl_fit_normal), hdl_fit_low), risk_not) \n",
    "rule13 = np.fmin(np.fmin(age_fit_young, bloodSugar_fit_veryHigh), risk_little) \n",
    "rule14 = np.fmin(np.fmin(age_fit_mid, bloodSugar_fit_veryHigh), risk_high) \n",
    "rule15 = np.fmin(np.fmin(age_fit_old, bloodSugar_fit_veryHigh), risk_veryHigh) \n",
    "rule16 = np.fmin(np.fmin(np.fmin(np.fmin(np.fmin(np.fmin(age_fit_young, bloodPressure_fit_low), cholesterol_fit_low), bloodSugar_fit_veryHigh), ldl_fit_normal), hdl_fit_high), risk_little) \n",
    "rule17 = np.fmin(np.fmin(np.fmin(np.fmin(np.fmin(np.fmin(age_fit_mid, bloodPressure_fit_low), cholesterol_fit_low), bloodSugar_fit_veryHigh), ldl_fit_normal), hdl_fit_high), risk_high) \n",
    "rule18 = np.fmin(np.fmin(np.fmin(np.fmin(np.fmin(np.fmin(age_fit_old, bloodPressure_fit_low), cholesterol_fit_low), bloodSugar_fit_veryHigh), ldl_fit_normal), hdl_fit_high), risk_veryHigh) \n",
    "rule19 = np.fmin(np.fmin(np.fmin(np.fmin(np.fmin(np.fmin(age_fit_mid, bloodPressure_fit_low), cholesterol_fit_low), bloodSugar_fit_veryHigh), ldl_fit_veryHigh), hdl_fit_high), risk_veryHigh) "
   ]
  },
  {
   "cell_type": "code",
   "execution_count": 31,
   "id": "543c9a5f",
   "metadata": {},
   "outputs": [],
   "source": [
    "rule20 = np.fmin(np.fmin(np.fmin(np.fmin(bloodPressure_fit_veryHigh, cholesterol_fit_high), ldl_fit_veryHigh), hdl_fit_high), risk_veryHigh) \n",
    "rule21 = np.fmin(np.fmin(np.fmin(np.fmin(bloodPressure_fit_high, cholesterol_fit_high), ldl_fit_high), hdl_fit_mid), risk_veryHigh) \n",
    "rule22 = np.fmin(np.fmin(np.fmin(np.fmin(np.fmin(age_fit_young, bloodPressure_fit_veryHigh), cholesterol_fit_high), ldl_fit_veryHigh), hdl_fit_mid), risk_mid) \n",
    "rule23 = np.fmin(np.fmin(age_fit_mid, bloodPressure_fit_veryHigh), risk_veryHigh)  \n",
    "rule24 = np.fmin(np.fmin(age_fit_old, bloodPressure_fit_veryHigh), risk_veryHigh) "
   ]
  },
  {
   "cell_type": "code",
   "execution_count": 32,
   "id": "a7e3f32b",
   "metadata": {},
   "outputs": [],
   "source": [
    "# Union sets > INTRACTION (Mamdani)\n",
    "\n",
    "out_not = np.fmax(np.fmax(np.fmax(np.fmax(np.fmax(rule1,rule5),rule6),rule7),rule8),rule12)\n",
    "out_little = np.fmax(np.fmax(rule2,rule13),rule16)\n",
    "out_mid = np.fmax(np.fmax(rule3, rule9),rule22)\n",
    "out_high = np.fmax(np.fmax(np.fmax(rule4, rule10),rule14),rule17)\n",
    "out_veryHigh = np.fmax(np.fmax(np.fmax(np.fmax(np.fmax(np.fmax(np.fmax(rule11,rule15),rule18),rule19),rule20),rule21),rule23),rule24)"
   ]
  },
  {
   "cell_type": "code",
   "execution_count": 33,
   "id": "114ebdf6",
   "metadata": {},
   "outputs": [
    {
     "data": {
      "image/png": "[encoded data removed]",
      "text/plain": [
       "<Figure size 504x288 with 1 Axes>"
      ]
     },
     "metadata": {
      "needs_background": "light"
     },
     "output_type": "display_data"
    }
   ],
   "source": [
    "# Graphic\n",
    "\n",
    "risk0 = np.zeros_like(y_risk)\n",
    "\n",
    "fig, ax0 = plt.subplots(figsize = (7, 4))\n",
    "ax0.fill_between(y_risk, risk0, out_not, facecolor = 'r', alpha = 0.7)\n",
    "ax0.plot(y_risk, risk_not, 'r', linestyle = '--')\n",
    "ax0.fill_between(y_risk, risk0, out_little, facecolor = 'g', alpha = 0.7)\n",
    "ax0.plot(y_risk, risk_little, 'g', linestyle = '--')\n",
    "ax0.fill_between(y_risk, risk0, out_mid, facecolor = 'b', alpha = 0.7)\n",
    "ax0.plot(y_risk, risk_mid, 'b', linestyle = '--')\n",
    "ax0.fill_between(y_risk, risk0, out_high, facecolor = 'y', alpha = 0.7)\n",
    "ax0.plot(y_risk, risk_high, 'y', linestyle = '--')\n",
    "ax0.fill_between(y_risk, risk0, out_veryHigh, facecolor = 'm', alpha = 0.7)\n",
    "ax0.plot(y_risk, risk_veryHigh, 'm', linestyle = '--')\n",
    "ax0.set_title('Out of the Risk')\n",
    "\n",
    "plt.tight_layout()\n"
   ]
  },
  {
   "cell_type": "code",
   "execution_count": 34,
   "id": "491767f7",
   "metadata": {},
   "outputs": [
    {
     "name": "stdout",
     "output_type": "stream",
     "text": [
      "Coroner Heart Diagnosis: 12.499999999999998\n"
     ]
    }
   ],
   "source": [
    "# RINSE - CoA\n",
    "\n",
    "out_risk = np.fmax(np.fmax(np.fmax(np.fmax(out_not, out_little), out_mid), out_high), out_veryHigh)\n",
    "\n",
    "defuzzified  = fuzz.defuzz(y_risk, out_risk, 'centroid')\n",
    "\n",
    "result = fuzz.interp_membership(y_risk, out_risk, defuzzified)\n",
    "\n",
    "print(\"Coroner Heart Diagnosis:\", defuzzified)"
   ]
  },
  {
   "cell_type": "code",
   "execution_count": 35,
   "id": "607c1bf6",
   "metadata": {},
   "outputs": [
    {
     "data": {
      "text/plain": [
       "[<matplotlib.lines.Line2D at 0x21edcd71f40>]"
      ]
     },
     "execution_count": 35,
     "metadata": {},
     "output_type": "execute_result"
    },
    {
     "data": {
      "image/png": "[encoded data removed]",
      "text/plain": [
       "<Figure size 504x288 with 1 Axes>"
      ]
     },
     "metadata": {
      "needs_background": "light"
     },
     "output_type": "display_data"
    }
   ],
   "source": [
    "# Graphic\n",
    "\n",
    "fig, ax0 = plt.subplots(figsize=(7, 4))\n",
    "\n",
    "ax0.plot(y_risk, risk_not, 'r', linewidth = 0.5, linestyle = '--')\n",
    "ax0.plot(y_risk, risk_little, 'g', linewidth = 0.5, linestyle = '--')\n",
    "ax0.plot(y_risk, risk_mid, 'b', linewidth = 0.5, linestyle = '--')\n",
    "ax0.plot(y_risk, risk_high, 'y', linewidth = 0.5, linestyle = '--')\n",
    "ax0.plot(y_risk, risk_veryHigh, 'm', linewidth = 0.5, linestyle = '--')"
   ]
  },
  {
   "cell_type": "code",
   "execution_count": 36,
   "id": "1b90ade9",
   "metadata": {},
   "outputs": [
    {
     "data": {
      "text/plain": [
       "Text(0.5, 1.0, 'Centroid Deffuzification')"
      ]
     },
     "execution_count": 36,
     "metadata": {},
     "output_type": "execute_result"
    }
   ],
   "source": [
    "ax0.fill_between(y_risk, risk0, out_risk, facecolor = 'Orange', alpha = 0.7)\n",
    "ax0.plot([defuzzified , defuzzified], [0, result], 'k', linewidth = 1.5, alpha = 0.9)\n",
    "ax0.set_title('Centroid Deffuzification')"
   ]
  },
  {
   "cell_type": "code",
   "execution_count": 37,
   "id": "4a79fa9b",
   "metadata": {},
   "outputs": [
    {
     "data": {
      "text/plain": [
       "<Figure size 432x288 with 0 Axes>"
      ]
     },
     "metadata": {},
     "output_type": "display_data"
    }
   ],
   "source": [
    "plt.tight_layout()"
   ]
  },
  {
   "cell_type": "code",
   "execution_count": null,
   "id": "e944be0d",
   "metadata": {},
   "outputs": [],
   "source": []
  }
 ],
 "metadata": {
  "kernelspec": {
   "display_name": "Python 3",
   "language": "python",
   "name": "python3"
  },
  "language_info": {
   "codemirror_mode": {
    "name": "ipython",
    "version": 3
   },
   "file_extension": ".py",
   "mimetype": "text/x-python",
   "name": "python",
   "nbconvert_exporter": "python",
   "pygments_lexer": "ipython3",
   "version": "3.8.8"
  }
 },
 "nbformat": 4,
 "nbformat_minor": 5
}
