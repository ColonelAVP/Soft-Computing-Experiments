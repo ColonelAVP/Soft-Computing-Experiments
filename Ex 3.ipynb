{
 "cells": [
  {
   "cell_type": "code",
   "execution_count": 1,
   "id": "72eb573f",
   "metadata": {},
   "outputs": [],
   "source": [
    "# set a threshold value\n",
    "threshold_value = 1.5"
   ]
  },
  {
   "cell_type": "code",
   "execution_count": 26,
   "id": "032daae5",
   "metadata": {},
   "outputs": [],
   "source": [
    "#multiply inputs with weights\n",
    "\n",
    "def utility(inputs, weights):\n",
    "    summ= 0\n",
    "    for i in range(0, len(inputs)):\n",
    "        summ+= inputs[i] * weights[i]\n",
    "        i += 1\n",
    "    return summ\n",
    "\n",
    "    \n",
    "inputs = [1, 0, 1, 0, 1]\n",
    "weights = [0.7, 0.6, 0.5, 0.3, 0.4]"
   ]
  },
  {
   "cell_type": "code",
   "execution_count": 27,
   "id": "b117d7ba",
   "metadata": {},
   "outputs": [],
   "source": [
    "result = utility(inputs,weights)"
   ]
  },
  {
   "cell_type": "code",
   "execution_count": 31,
   "id": "c3d46a1b",
   "metadata": {},
   "outputs": [
    {
     "data": {
      "text/plain": [
       "1.6"
      ]
     },
     "execution_count": 31,
     "metadata": {},
     "output_type": "execute_result"
    }
   ],
   "source": [
    "#sum of weights\n",
    "result"
   ]
  },
  {
   "cell_type": "code",
   "execution_count": 30,
   "id": "fae260fc",
   "metadata": {},
   "outputs": [
    {
     "name": "stdout",
     "output_type": "stream",
     "text": [
      "Go to Concert\n"
     ]
    }
   ],
   "source": [
    "#activate the output\n",
    "if utility(inputs,weights) > threshold:\n",
    "    print(\"Go to Concert\")\n",
    "else:\n",
    "    print(\"Don't go to concert\")"
   ]
  },
  {
   "cell_type": "code",
   "execution_count": null,
   "id": "edc47e55",
   "metadata": {},
   "outputs": [],
   "source": []
  }
 ],
 "metadata": {
  "kernelspec": {
   "display_name": "Python 3",
   "language": "python",
   "name": "python3"
  },
  "language_info": {
   "codemirror_mode": {
    "name": "ipython",
    "version": 3
   },
   "file_extension": ".py",
   "mimetype": "text/x-python",
   "name": "python",
   "nbconvert_exporter": "python",
   "pygments_lexer": "ipython3",
   "version": "3.8.8"
  }
 },
 "nbformat": 4,
 "nbformat_minor": 5
}
