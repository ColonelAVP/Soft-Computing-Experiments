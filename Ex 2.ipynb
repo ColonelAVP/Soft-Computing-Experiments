{
 "cells": [
  {
   "cell_type": "markdown",
   "id": "9439bc99",
   "metadata": {},
   "source": [
    "### Implement Single Perceptron in Python and Numpy for the AND, OR, XOR gates with two inputs. Furthermore, increase the number of inputs and coclude on the values of weights,and bias"
   ]
  },
  {
   "cell_type": "code",
   "execution_count": 25,
   "id": "4f4329ab",
   "metadata": {},
   "outputs": [],
   "source": [
    "import numpy as np"
   ]
  },
  {
   "cell_type": "code",
   "execution_count": 26,
   "id": "7ffeaeef",
   "metadata": {},
   "outputs": [],
   "source": [
    "def stepFunction(value):\n",
    "    if value >= 0:\n",
    "        return 1\n",
    "    else:\n",
    "        return 0"
   ]
  },
  {
   "cell_type": "code",
   "execution_count": 27,
   "id": "047b28e2",
   "metadata": {},
   "outputs": [],
   "source": [
    "def perceptron(x, w, b):\n",
    "    \"\"\" Function implemented by a perceptron with \n",
    "        weight vector w and bias b \"\"\"\n",
    "    v = np.dot(w, x) + b\n",
    "    y = stepFunction(v)\n",
    "    return y"
   ]
  },
  {
   "cell_type": "code",
   "execution_count": 28,
   "id": "19bc003e",
   "metadata": {},
   "outputs": [
    {
     "name": "stdout",
     "output_type": "stream",
     "text": [
      "NOT(0) = 1\n",
      "NOT(1) = 0\n"
     ]
    }
   ],
   "source": [
    "def NOT_percep(x):\n",
    "    return perceptron(x, w=-1, b=0.5)\n",
    "\n",
    "print(\"NOT(0) = {}\".format(NOT_percep(0)))\n",
    "print(\"NOT(1) = {}\".format(NOT_percep(1)))"
   ]
  },
  {
   "cell_type": "code",
   "execution_count": 29,
   "id": "44bfdf07",
   "metadata": {},
   "outputs": [],
   "source": [
    "def AND_percep(x):\n",
    "    w = np.array([1, 1, 1])\n",
    "    b = -2.5\n",
    "    return perceptron(x, w, b)"
   ]
  },
  {
   "cell_type": "code",
   "execution_count": 30,
   "id": "856e7412",
   "metadata": {},
   "outputs": [],
   "source": [
    "def OR_percep(x):\n",
    "    w = np.array([1, 1, 1])\n",
    "    b = -0.5\n",
    "    return perceptron(x, w, b)"
   ]
  },
  {
   "cell_type": "code",
   "execution_count": 31,
   "id": "fa7f2162",
   "metadata": {},
   "outputs": [],
   "source": [
    "def XOR_net(x):\n",
    "    gate_1 = AND_percep(x)\n",
    "    gate_2 = NOT_percep(gate_1)\n",
    "    gate_3 = OR_percep(x)\n",
    "    new_x = np.array([1, gate_2, gate_3])\n",
    "    output = AND_percep(new_x)\n",
    "    return output"
   ]
  },
  {
   "cell_type": "code",
   "execution_count": 32,
   "id": "176146e1",
   "metadata": {},
   "outputs": [],
   "source": [
    "row1=np.array([1,0,0])\n",
    "row2=np.array([0,1,0])\n",
    "row3=np.array([0,0,1])\n",
    "row4=np.array([1,1,0])\n",
    "row5=np.array([1,0,1])\n",
    "row6=np.array([0,1,1])\n",
    "row7=np.array([0,0,0])\n",
    "row8=np.array([1,1,1])"
   ]
  },
  {
   "cell_type": "code",
   "execution_count": 33,
   "id": "06965a4a",
   "metadata": {},
   "outputs": [
    {
     "name": "stdout",
     "output_type": "stream",
     "text": [
      "AND(1, 0,0) = 0\n",
      "AND(0, 1,0) = 0\n",
      "AND(0, 0,1) = 0\n",
      "AND(1, 1,0) = 0\n",
      "AND(1, 0,1) = 0\n",
      "AND(0, 1,1) = 0\n",
      "AND(0, 0,0) = 0\n",
      "AND(1, 1,1) = 1\n"
     ]
    }
   ],
   "source": [
    "print(\"AND({}, {},{}) = {}\".format(1, 0, 0, AND_percep(row1)))\n",
    "print(\"AND({}, {},{}) = {}\".format(0, 1, 0, AND_percep(row2)))\n",
    "print(\"AND({}, {},{}) = {}\".format(0, 0, 1, AND_percep(row3)))\n",
    "print(\"AND({}, {},{}) = {}\".format(1, 1, 0, AND_percep(row4)))\n",
    "print(\"AND({}, {},{}) = {}\".format(1, 0, 1, AND_percep(row5)))\n",
    "print(\"AND({}, {},{}) = {}\".format(0, 1, 1, AND_percep(row6)))\n",
    "print(\"AND({}, {},{}) = {}\".format(0, 0, 0, AND_percep(row7)))\n",
    "print(\"AND({}, {},{}) = {}\".format(1, 1, 1, AND_percep(row8)))"
   ]
  },
  {
   "cell_type": "code",
   "execution_count": 34,
   "id": "5d958743",
   "metadata": {},
   "outputs": [
    {
     "name": "stdout",
     "output_type": "stream",
     "text": [
      "OR(1, 0, 0) = 1\n",
      "OR(0, 1, 0) = 1\n",
      "OR(0, 0, 1) = 1\n",
      "OR(1, 1, 0) = 1\n",
      "OR(1, 0, 1) = 1\n",
      "OR(0, 1, 1) = 1\n",
      "OR(0, 0, 0) = 0\n",
      "OR(1, 1, 1) = 1\n"
     ]
    }
   ],
   "source": [
    "print(\"OR({}, {}, {}) = {}\".format(1, 0, 0, OR_percep(row1)))\n",
    "print(\"OR({}, {}, {}) = {}\".format(0, 1, 0, OR_percep(row2)))\n",
    "print(\"OR({}, {}, {}) = {}\".format(0, 0, 1, OR_percep(row3)))\n",
    "print(\"OR({}, {}, {}) = {}\".format(1, 1, 0, OR_percep(row4)))\n",
    "print(\"OR({}, {}, {}) = {}\".format(1, 0, 1, OR_percep(row5)))\n",
    "print(\"OR({}, {}, {}) = {}\".format(0, 1, 1, OR_percep(row6)))\n",
    "print(\"OR({}, {}, {}) = {}\".format(0, 0, 0, OR_percep(row7)))\n",
    "print(\"OR({}, {}, {}) = {}\".format(1, 1, 1, OR_percep(row8)))"
   ]
  },
  {
   "cell_type": "code",
   "execution_count": 35,
   "id": "cf8b285b",
   "metadata": {},
   "outputs": [
    {
     "name": "stdout",
     "output_type": "stream",
     "text": [
      "XOR(1, 0, 0) = 1\n",
      "XOR(0, 1, 0) = 1\n",
      "XOR(0, 0, 1) = 1\n",
      "XOR(1, 1, 0) = 1\n",
      "XOR(1, 0, 1) = 1\n",
      "XOR(0, 1, 1) = 1\n",
      "XOR(0, 0, 0) = 0\n",
      "XOR(1, 1, 1) = 0\n"
     ]
    }
   ],
   "source": [
    "print(\"XOR({}, {}, {}) = {}\".format(1, 0, 0, XOR_net(row1)))\n",
    "print(\"XOR({}, {}, {}) = {}\".format(0, 1, 0, XOR_net(row2)))\n",
    "print(\"XOR({}, {}, {}) = {}\".format(0, 0, 1, XOR_net(row3)))\n",
    "print(\"XOR({}, {}, {}) = {}\".format(1, 1, 0, XOR_net(row4)))\n",
    "print(\"XOR({}, {}, {}) = {}\".format(1, 0, 1, XOR_net(row5)))\n",
    "print(\"XOR({}, {}, {}) = {}\".format(0, 1, 1, XOR_net(row6)))\n",
    "print(\"XOR({}, {}, {}) = {}\".format(0, 0, 0, XOR_net(row7)))\n",
    "print(\"XOR({}, {}, {}) = {}\".format(1, 1, 1, XOR_net(row8)))"
   ]
  },
  {
   "cell_type": "code",
   "execution_count": null,
   "id": "0f909813",
   "metadata": {},
   "outputs": [],
   "source": []
  }
 ],
 "metadata": {
  "kernelspec": {
   "display_name": "Python 3",
   "language": "python",
   "name": "python3"
  },
  "language_info": {
   "codemirror_mode": {
    "name": "ipython",
    "version": 3
   },
   "file_extension": ".py",
   "mimetype": "text/x-python",
   "name": "python",
   "nbconvert_exporter": "python",
   "pygments_lexer": "ipython3",
   "version": "3.8.8"
  }
 },
 "nbformat": 4,
 "nbformat_minor": 5
}
