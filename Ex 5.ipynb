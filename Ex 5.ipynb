{
 "cells": [
  {
   "cell_type": "code",
   "execution_count": 1,
   "id": "a84e922e",
   "metadata": {},
   "outputs": [
    {
     "name": "stdout",
     "output_type": "stream",
     "text": [
      "Random weights at the start of training\n",
      "[[-0.44880194]\n",
      " [ 0.14834596]\n",
      " [-0.73338289]]\n",
      "New weights after training\n",
      "[[  8.4599347 ]\n",
      " [-12.82128909]\n",
      " [ -4.00599671]]\n",
      "Testing network on new examples ->\n",
      "[0.99978826]\n"
     ]
    }
   ],
   "source": [
    "\n",
    "import numpy as np\n",
    "from numpy import exp,random,array,dot\n",
    "\n",
    "class NeuralNetwork:\n",
    "    \n",
    "     def __init__(self):\n",
    "## Seed the random number generator, so it generates the same numbers\n",
    "# every time the program runs. random. seed (1)\n",
    "# We model a single neuron, with 3 input connections and 1 output connection # We assign random weights to a 3 x 1 matrix, with values in the range -1 to\n",
    "# and mean e.\n",
    "      self. weight_matrix = 2 * random. random((3, 1)) - 1\n",
    "## The Sigmoid function, which describes an S shaped curve.\n",
    "# We pass the weighted sum of the inputs through this function to # normal ise them between e and 1. \n",
    "     def sig(self, x) :\n",
    "         return 1/(1 + np.exp(-x))\n",
    "# The derivative of the Sigmoid function.\n",
    "# This is the gradient of the Sigmoid curve.\n",
    "# It indicates how confident we are about the existing weight.\n",
    "     def sig_derivative(self,x) : \n",
    "        return x *(1-x)\n",
    "    \n",
    "     def forward_propagation(self, inputs) :\n",
    "        return self. sig(dot(inputs, self. weight_matrix))\n",
    "# We train the neural network through a process of trial and error. # Adjusting the synaptic weights each time.\n",
    "     def train(self, train_inputs, train_outputs, numofiterations) :\n",
    "         \n",
    "            for iteration in range(numofiterations) :\n",
    "# Pass the training set through our neural network (a single neuron). \n",
    "                output = self. forward_propagation (train_inputs)\n",
    "# Calculate the error (The difference between the desired output # and the predicted output).\n",
    "                error = train_outputs - output\n",
    "# Multiply the error by the input and again by the gradient of the Sigmo # This means less confident weights are adjusted more.\n",
    "# This means inputs, which are zero, do not cause changes to the weights\n",
    "                adjustment = dot(train_inputs.T,  error * self. sig_derivative(output))\n",
    "# Adjust the weights.\n",
    "                self. weight_matrix += adjustment\n",
    "#1nitiaLise a single neuron neural network \n",
    "nn = NeuralNetwork()\n",
    "\n",
    "print ( 'Random weights at the start of training' )\n",
    "print (nn.weight_matrix)\n",
    "# The training set. We have 4 examples, each consisting of 3 input values # and 1 output value.\n",
    "training_input = array([[1,0,1],[0,0,1],[1,0,1],[1,1,0]])\n",
    "training_output = array([[1,0,1,0]]).T\n",
    "# Train the neural network using a training set.\n",
    "\n",
    "# Do it 10, times and make small adjustments each time.\n",
    "nn.train(training_input, training_output, 10000)\n",
    "\n",
    "print ( 'New weights after training' ) \n",
    "print (nn.weight_matrix)\n",
    "\n",
    "print (\"Testing network on new examples ->\")\n",
    "print (nn.forward_propagation(array([1, 0, 0] ) ) )\n"
   ]
  },
  {
   "cell_type": "code",
   "execution_count": null,
   "id": "9f9b2d72",
   "metadata": {},
   "outputs": [],
   "source": []
  }
 ],
 "metadata": {
  "kernelspec": {
   "display_name": "Python 3",
   "language": "python",
   "name": "python3"
  },
  "language_info": {
   "codemirror_mode": {
    "name": "ipython",
    "version": 3
   },
   "file_extension": ".py",
   "mimetype": "text/x-python",
   "name": "python",
   "nbconvert_exporter": "python",
   "pygments_lexer": "ipython3",
   "version": "3.8.8"
  }
 },
 "nbformat": 4,
 "nbformat_minor": 5
}
