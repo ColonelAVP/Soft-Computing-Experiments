{
 "cells": [
  {
   "cell_type": "markdown",
   "id": "dcc76ab0",
   "metadata": {},
   "source": [
    "### Implement the Gradient Descent Algorithm. Give inputs as Learning Rate. Initial Position (x,y) Number of iterations. Print the output as the, Values generated in Each iteration.\n"
   ]
  },
  {
   "cell_type": "code",
   "execution_count": 44,
   "id": "23d53f7e",
   "metadata": {},
   "outputs": [
    {
     "data": {
      "text/html": [
       "<div>\n",
       "<style scoped>\n",
       "    .dataframe tbody tr th:only-of-type {\n",
       "        vertical-align: middle;\n",
       "    }\n",
       "\n",
       "    .dataframe tbody tr th {\n",
       "        vertical-align: top;\n",
       "    }\n",
       "\n",
       "    .dataframe thead th {\n",
       "        text-align: right;\n",
       "    }\n",
       "</style>\n",
       "<table border=\"1\" class=\"dataframe\">\n",
       "  <thead>\n",
       "    <tr style=\"text-align: right;\">\n",
       "      <th></th>\n",
       "      <th>Unnamed: 0</th>\n",
       "      <th>TV</th>\n",
       "      <th>radio</th>\n",
       "      <th>newspaper</th>\n",
       "      <th>sales</th>\n",
       "    </tr>\n",
       "  </thead>\n",
       "  <tbody>\n",
       "    <tr>\n",
       "      <th>0</th>\n",
       "      <td>1</td>\n",
       "      <td>230.1</td>\n",
       "      <td>37.8</td>\n",
       "      <td>69.2</td>\n",
       "      <td>22.1</td>\n",
       "    </tr>\n",
       "    <tr>\n",
       "      <th>1</th>\n",
       "      <td>2</td>\n",
       "      <td>44.5</td>\n",
       "      <td>39.3</td>\n",
       "      <td>45.1</td>\n",
       "      <td>10.4</td>\n",
       "    </tr>\n",
       "    <tr>\n",
       "      <th>2</th>\n",
       "      <td>3</td>\n",
       "      <td>17.2</td>\n",
       "      <td>45.9</td>\n",
       "      <td>69.3</td>\n",
       "      <td>9.3</td>\n",
       "    </tr>\n",
       "    <tr>\n",
       "      <th>3</th>\n",
       "      <td>4</td>\n",
       "      <td>151.5</td>\n",
       "      <td>41.3</td>\n",
       "      <td>58.5</td>\n",
       "      <td>18.5</td>\n",
       "    </tr>\n",
       "    <tr>\n",
       "      <th>4</th>\n",
       "      <td>5</td>\n",
       "      <td>180.8</td>\n",
       "      <td>10.8</td>\n",
       "      <td>58.4</td>\n",
       "      <td>12.9</td>\n",
       "    </tr>\n",
       "  </tbody>\n",
       "</table>\n",
       "</div>"
      ],
      "text/plain": [
       "   Unnamed: 0     TV  radio  newspaper  sales\n",
       "0           1  230.1   37.8       69.2   22.1\n",
       "1           2   44.5   39.3       45.1   10.4\n",
       "2           3   17.2   45.9       69.3    9.3\n",
       "3           4  151.5   41.3       58.5   18.5\n",
       "4           5  180.8   10.8       58.4   12.9"
      ]
     },
     "execution_count": 44,
     "metadata": {},
     "output_type": "execute_result"
    }
   ],
   "source": [
    "df=pd.read_csv('Advertising.csv')\n",
    "df.head()"
   ]
  },
  {
   "cell_type": "code",
   "execution_count": 45,
   "id": "a4b8cbbb",
   "metadata": {},
   "outputs": [],
   "source": [
    "X=df[[\"TV\",\"radio\",\"newspaper\"]]\n",
    "Y=df[\"sales\"]\n",
    "Y=np.array((Y-Y.mean())/Y.std())\n",
    "X=X.apply(lambda rec:(rec-rec.mean())/rec.std(),axis=0)"
   ]
  },
  {
   "cell_type": "code",
   "execution_count": 46,
   "id": "727907f0",
   "metadata": {},
   "outputs": [
    {
     "name": "stdout",
     "output_type": "stream",
     "text": [
      "Bias:  0.16699055823087827 Weights:  [0.0432299  0.12306174 0.29672808]\n"
     ]
    }
   ],
   "source": [
    "import random\n",
    "def initialize(dim):\n",
    "    b=random.random()\n",
    "    theta=np.random.rand(dim)\n",
    "    return b,theta\n",
    "b,theta=initialize(3)\n",
    "print(\"Bias: \",b,\"Weights: \",theta)"
   ]
  },
  {
   "cell_type": "code",
   "execution_count": 47,
   "id": "999fe5d9",
   "metadata": {},
   "outputs": [
    {
     "data": {
      "text/plain": [
       "array([ 0.8558395 ,  0.44646182,  0.81714015,  0.69948825,  0.46007172,\n",
       "        0.9153875 ,  0.10483627, -0.13513875, -0.480808  , -0.10516954])"
      ]
     },
     "execution_count": 47,
     "metadata": {},
     "output_type": "execute_result"
    }
   ],
   "source": [
    "def predict_Y(b,theta,X):\n",
    "    return b + np.dot(X,theta)\n",
    "Y_hat=predict_Y(b,theta,X)\n",
    "Y_hat[0:10]"
   ]
  },
  {
   "cell_type": "code",
   "execution_count": 48,
   "id": "c1895e66",
   "metadata": {},
   "outputs": [
    {
     "data": {
      "text/plain": [
       "0.8119652609569735"
      ]
     },
     "execution_count": 48,
     "metadata": {},
     "output_type": "execute_result"
    }
   ],
   "source": [
    "import math\n",
    "def get_cost(Y,Y_hat):\n",
    "    Y_resd=Y-Y_hat\n",
    "    return np.sum(np.dot(Y_resd.T,Y_resd))/len(Y-Y_resd)\n",
    "Y_hat=predict_Y(b,theta,X)\n",
    "get_cost(Y,Y_hat)"
   ]
  },
  {
   "cell_type": "code",
   "execution_count": 49,
   "id": "3caf3201",
   "metadata": {
    "scrolled": true
   },
   "outputs": [
    {
     "name": "stdout",
     "output_type": "stream",
     "text": [
      "After initialization -Bias:  0.16699055823087827 theta:  [0.0432299  0.12306174 0.29672808]\n",
      "After first update -Bias:  0.1636507470662607 theta:  [0.05746717 0.12994154 0.29445043]\n"
     ]
    },
    {
     "data": {
      "text/plain": [
       "0.8119652609569735"
      ]
     },
     "execution_count": 49,
     "metadata": {},
     "output_type": "execute_result"
    }
   ],
   "source": [
    "def update_theta(x,y,y_hat,b_0,theta_o,learning_rate):\n",
    "    db=(np.sum(y_hat-y)*2)/len(y)\n",
    "    dw=(np.dot((y_hat-y),x)*2)/len(y)\n",
    "    b_1=b_0-learning_rate*db\n",
    "    theta_1=theta_o-learning_rate*dw\n",
    "    return b_1,theta_1\n",
    "print(\"After initialization -Bias: \",b,\"theta: \",theta)\n",
    "Y_hat=predict_Y(b,theta,X)\n",
    "b,theta=update_theta(X,Y,Y_hat,b,theta,0.01)\n",
    "print(\"After first update -Bias: \",b,\"theta: \",theta)\n",
    "get_cost(Y,Y_hat)"
   ]
  },
  {
   "cell_type": "code",
   "execution_count": 83,
   "id": "76ad43d6",
   "metadata": {},
   "outputs": [
    {
     "name": "stdout",
     "output_type": "stream",
     "text": [
      "Final Estimate of b and theta :  0.062274770020571316 [0.31630705 0.29725127 0.22149219]\n"
     ]
    }
   ],
   "source": [
    "def run_gradient_descent(X,Y,alpha,num_iterations):\n",
    "    b,theta=initialize(X.shape[1])\n",
    "    iter_num=0\n",
    "    gd_iterations_df=pd.DataFrame(columns=[\"iteration\",\"cost\"])\n",
    "    result_idx=0\n",
    "    for each_iter in range(num_iterations):\n",
    "        Y_hat=predict_Y(b,theta,X)\n",
    "        this_cost=get_cost(Y,Y_hat)\n",
    "        prev_b=b\n",
    "        prev_theta=theta\n",
    "        b,theta=update_theta(X,Y,Y_hat,prev_b,prev_theta,alpha)\n",
    "        if(iter_num%10==0):\n",
    "            gd_iterations_df.loc[result_idx]=[iter_num,this_cost]\n",
    "            result_idx=result_idx+1\n",
    "        iter_num +=1\n",
    "    print(\"Final Estimate of b and theta : \",b,theta)\n",
    "    return gd_iterations_df,b,theta\n",
    "\n",
    "gd_iterations_df,b,theta=run_gradient_descent(X,Y,alpha=0.001,num_iterations=200)"
   ]
  },
  {
   "cell_type": "code",
   "execution_count": 92,
   "id": "fd802d2a",
   "metadata": {},
   "outputs": [
    {
     "data": {
      "text/html": [
       "<div>\n",
       "<style scoped>\n",
       "    .dataframe tbody tr th:only-of-type {\n",
       "        vertical-align: middle;\n",
       "    }\n",
       "\n",
       "    .dataframe tbody tr th {\n",
       "        vertical-align: top;\n",
       "    }\n",
       "\n",
       "    .dataframe thead th {\n",
       "        text-align: right;\n",
       "    }\n",
       "</style>\n",
       "<table border=\"1\" class=\"dataframe\">\n",
       "  <thead>\n",
       "    <tr style=\"text-align: right;\">\n",
       "      <th></th>\n",
       "      <th>iteration</th>\n",
       "      <th>cost</th>\n",
       "    </tr>\n",
       "  </thead>\n",
       "  <tbody>\n",
       "    <tr>\n",
       "      <th>0</th>\n",
       "      <td>0.0</td>\n",
       "      <td>0.653964</td>\n",
       "    </tr>\n",
       "    <tr>\n",
       "      <th>1</th>\n",
       "      <td>10.0</td>\n",
       "      <td>0.633693</td>\n",
       "    </tr>\n",
       "    <tr>\n",
       "      <th>2</th>\n",
       "      <td>20.0</td>\n",
       "      <td>0.614194</td>\n",
       "    </tr>\n",
       "    <tr>\n",
       "      <th>3</th>\n",
       "      <td>30.0</td>\n",
       "      <td>0.595437</td>\n",
       "    </tr>\n",
       "    <tr>\n",
       "      <th>4</th>\n",
       "      <td>40.0</td>\n",
       "      <td>0.577392</td>\n",
       "    </tr>\n",
       "    <tr>\n",
       "      <th>5</th>\n",
       "      <td>50.0</td>\n",
       "      <td>0.560032</td>\n",
       "    </tr>\n",
       "    <tr>\n",
       "      <th>6</th>\n",
       "      <td>60.0</td>\n",
       "      <td>0.543330</td>\n",
       "    </tr>\n",
       "    <tr>\n",
       "      <th>7</th>\n",
       "      <td>70.0</td>\n",
       "      <td>0.527259</td>\n",
       "    </tr>\n",
       "    <tr>\n",
       "      <th>8</th>\n",
       "      <td>80.0</td>\n",
       "      <td>0.511796</td>\n",
       "    </tr>\n",
       "    <tr>\n",
       "      <th>9</th>\n",
       "      <td>90.0</td>\n",
       "      <td>0.496916</td>\n",
       "    </tr>\n",
       "    <tr>\n",
       "      <th>10</th>\n",
       "      <td>100.0</td>\n",
       "      <td>0.482597</td>\n",
       "    </tr>\n",
       "    <tr>\n",
       "      <th>11</th>\n",
       "      <td>110.0</td>\n",
       "      <td>0.468817</td>\n",
       "    </tr>\n",
       "    <tr>\n",
       "      <th>12</th>\n",
       "      <td>120.0</td>\n",
       "      <td>0.455555</td>\n",
       "    </tr>\n",
       "    <tr>\n",
       "      <th>13</th>\n",
       "      <td>130.0</td>\n",
       "      <td>0.442791</td>\n",
       "    </tr>\n",
       "    <tr>\n",
       "      <th>14</th>\n",
       "      <td>140.0</td>\n",
       "      <td>0.430506</td>\n",
       "    </tr>\n",
       "  </tbody>\n",
       "</table>\n",
       "</div>"
      ],
      "text/plain": [
       "    iteration      cost\n",
       "0         0.0  0.653964\n",
       "1        10.0  0.633693\n",
       "2        20.0  0.614194\n",
       "3        30.0  0.595437\n",
       "4        40.0  0.577392\n",
       "5        50.0  0.560032\n",
       "6        60.0  0.543330\n",
       "7        70.0  0.527259\n",
       "8        80.0  0.511796\n",
       "9        90.0  0.496916\n",
       "10      100.0  0.482597\n",
       "11      110.0  0.468817\n",
       "12      120.0  0.455555\n",
       "13      130.0  0.442791\n",
       "14      140.0  0.430506"
      ]
     },
     "execution_count": 92,
     "metadata": {},
     "output_type": "execute_result"
    }
   ],
   "source": [
    "gd_iterations_df[0:15]"
   ]
  },
  {
   "cell_type": "code",
   "execution_count": 85,
   "id": "b464fe1f",
   "metadata": {},
   "outputs": [
    {
     "data": {
      "text/plain": [
       "Text(0, 0.5, 'Cost or MSE')"
      ]
     },
     "execution_count": 85,
     "metadata": {},
     "output_type": "execute_result"
    },
    {
     "data": {
      "image/png": "[encoded data removed]",
      "text/plain": [
       "<Figure size 432x288 with 1 Axes>"
      ]
     },
     "metadata": {
      "needs_background": "light"
     },
     "output_type": "display_data"
    }
   ],
   "source": [
    "plt.plot(gd_iterations_df[\"iteration\"],gd_iterations_df[\"cost\"])\n",
    "plt.xlabel(\"Number of iterations\")\n",
    "plt.ylabel(\"Cost or MSE\")"
   ]
  },
  {
   "cell_type": "code",
   "execution_count": 88,
   "id": "81c1df88",
   "metadata": {},
   "outputs": [
    {
     "name": "stdout",
     "output_type": "stream",
     "text": [
      "Final Estimate of b and theta :  2.774881806062011e-16 [ 0.75306591  0.53648155 -0.00433069]\n"
     ]
    }
   ],
   "source": [
    "alpha_df_1,b,theta=run_gradient_descent(X,Y,alpha=0.01,num_iterations=2000)"
   ]
  },
  {
   "cell_type": "code",
   "execution_count": 89,
   "id": "38a86c49",
   "metadata": {},
   "outputs": [
    {
     "name": "stdout",
     "output_type": "stream",
     "text": [
      "Final Estimate of b and theta :  0.01335632985002742 [0.75312976 0.51837219 0.01540424]\n"
     ]
    }
   ],
   "source": [
    "alpha_df_2,b,theta=run_gradient_descent(X,Y,alpha=0.001,num_iterations=2000)"
   ]
  },
  {
   "cell_type": "code",
   "execution_count": 90,
   "id": "3ba4b352",
   "metadata": {},
   "outputs": [
    {
     "data": {
      "text/plain": [
       "Text(0.5, 1.0, 'Cost Vs. Iterations for different alpha values')"
      ]
     },
     "execution_count": 90,
     "metadata": {},
     "output_type": "execute_result"
    },
    {
     "data": {
      "image/png": "[encoded data removed]",
      "text/plain": [
       "<Figure size 432x288 with 1 Axes>"
      ]
     },
     "metadata": {
      "needs_background": "light"
     },
     "output_type": "display_data"
    }
   ],
   "source": [
    "plt.plot(alpha_df_1['iteration'],alpha_df_1['cost'],label=\"alpha=0.01\")\n",
    "plt.plot(alpha_df_2['iteration'],alpha_df_2['cost'],label=\"alpha=0.001\")\n",
    "plt.legend()\n",
    "plt.ylabel('cost')\n",
    "plt.xlabel('Number of iterations')\n",
    "plt.title('Cost Vs. Iterations for different alpha values')"
   ]
  },
  {
   "cell_type": "code",
   "execution_count": null,
   "id": "e67b9403",
   "metadata": {},
   "outputs": [],
   "source": []
  }
 ],
 "metadata": {
  "kernelspec": {
   "display_name": "Python 3",
   "language": "python",
   "name": "python3"
  },
  "language_info": {
   "codemirror_mode": {
    "name": "ipython",
    "version": 3
   },
   "file_extension": ".py",
   "mimetype": "text/x-python",
   "name": "python",
   "nbconvert_exporter": "python",
   "pygments_lexer": "ipython3",
   "version": "3.8.8"
  }
 },
 "nbformat": 4,
 "nbformat_minor": 5
}
